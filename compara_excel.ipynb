{
 "cells": [
  {
   "cell_type": "code",
   "execution_count": null,
   "metadata": {},
   "outputs": [],
   "source": [
    "# Cargamos las librerías necesarias\n",
    "# pip install openpyxl \n",
    "import pandas as pd\n",
    "import os\n",
    "from openpyxl import load_workbook, Workbook"
   ]
  },
  {
   "cell_type": "markdown",
   "metadata": {},
   "source": [
    "### Cargamos el excel de presupuesto"
   ]
  },
  {
   "cell_type": "code",
   "execution_count": null,
   "metadata": {},
   "outputs": [],
   "source": [
    "# Especifica la ruta del archivo y el nombre de la hoja\n",
    "presupuesto='Presupuesto' # Cambia esto por el nombre del archivo excel del presupuesto que quieres leer, lo metemos en una variable para más adelante usarlo.\n",
    "presupuesto_excel = f'ruta/{presupuesto}.xlsx'\n",
    "nombre_hoja = 'Hoja1'  # Cambia esto por el nombre de la hoja que quieres leer\n",
    "\n",
    "# Lee la hoja específica\n",
    "df_presupuesto = pd.read_excel(presupuesto_excel, sheet_name=nombre_hoja)"
   ]
  },
  {
   "cell_type": "markdown",
   "metadata": {},
   "source": [
    "### Cargamos el excel de los costes generado por el programa"
   ]
  },
  {
   "cell_type": "code",
   "execution_count": null,
   "metadata": {},
   "outputs": [],
   "source": [
    "df_costes = 'ruta/archivo_erp.xlsx' # Cambia esto por el nombre del archivo excel que ha generado el ERP que quieres leer"
   ]
  },
  {
   "cell_type": "markdown",
   "metadata": {},
   "source": [
    "### Trabajamos en el dataframe de los costes"
   ]
  },
  {
   "cell_type": "code",
   "execution_count": null,
   "metadata": {},
   "outputs": [],
   "source": [
    "#Aquí deberemos filtrar, agrupar y sumar las columnas para dejarlo preparado para la comparación"
   ]
  },
  {
   "cell_type": "markdown",
   "metadata": {},
   "source": [
    "# Comparamos ambos dataframes"
   ]
  },
  {
   "cell_type": "code",
   "execution_count": null,
   "metadata": {},
   "outputs": [],
   "source": [
    "# Comprobar si ambos archivos tienen las mismas columnas\n",
    "if df_presupuesto.columns.tolist() != df_costes.columns.tolist():\n",
    "    print(\"Los archivos tienen diferentes columnas. Revísalos\")\n",
    "else:\n",
    "    \n",
    "    df_presupuesto = df_presupuesto.set_index('ID') #sustituir ID por el nombre de la columna que contiene los nombres de los valores\n",
    "    df_costes = df_costes.set_index('ID') #sustituir ID por el nombre de la columna que contiene los nombres de los valores\n",
    "    # Encontrar diferencias entre los DataFrames\n",
    "    diferencias = df_presupuesto.compare(df_costes, keep_shape=True, keep_equal=False)\n",
    "    if diferencias.empty:\n",
    "        print(\"Enhorabuena. Clavaste el presupuesto\")\n",
    "    else:\n",
    "        print(\"Parece que ha habido diferencias. Por favor, revisa el excel generado\")\n",
    "        excel_diferencias=presupuesto+'_Comparado.xls'\n",
    "        diferencias.to_excel(excel_diferencias)\n"
   ]
  },
  {
   "cell_type": "markdown",
   "metadata": {},
   "source": [
    "### Añadimos las diferencias a un excel global para poder hacer un análisis\n"
   ]
  },
  {
   "cell_type": "code",
   "execution_count": null,
   "metadata": {},
   "outputs": [],
   "source": [
    "diferencias_acumuladas='ruta/al/archivo.xlsx' # Ruta al archivo Excel\n",
    "\n",
    "if os.path.exists(diferencias_acumuladas):\n",
    "    # Si existe, carga el archivo y selecciona la hoja\n",
    "    libro = load_workbook(diferencias_acumuladas)\n",
    "    hoja = libro.active  # Puedes especificar la hoja con libro[\"NombreHoja\"]\n",
    "else:\n",
    "    # Si no existe, crea un nuevo archivo y añade encabezados\n",
    "    libro = Workbook()\n",
    "    hoja = libro.active\n",
    "    hoja.append(diferencias.columns.tolist())\n",
    "\n",
    "# Agrega las filas al final de la hoja\n",
    "for index, fila in diferencias.iterrows():\n",
    "    hoja.append([index] + fila.tolist())\n",
    "\n",
    "# Guarda el archivo (crea uno nuevo o actualiza el existente)\n",
    "libro.save(diferencias_acumuladas)"
   ]
  },
  {
   "cell_type": "markdown",
   "metadata": {},
   "source": []
  }
 ],
 "metadata": {
  "language_info": {
   "name": "python"
  }
 },
 "nbformat": 4,
 "nbformat_minor": 2
}
